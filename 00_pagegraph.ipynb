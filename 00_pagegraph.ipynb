{
 "cells": [
  {
   "cell_type": "markdown",
   "metadata": {},
   "source": [
    "# fastdot.pagegraph\n",
    "\n",
    "> David's stuff!"
   ]
  },
  {
   "cell_type": "code",
   "execution_count": 1,
   "metadata": {},
   "outputs": [],
   "source": [
    "# default_exp pagegraph\n",
    "# default_cls_lvl 3"
   ]
  },
  {
   "cell_type": "code",
   "execution_count": 2,
   "metadata": {},
   "outputs": [],
   "source": [
    "#export\n",
    "from functools import singledispatch\n",
    "from torch import nn"
   ]
  },
  {
   "cell_type": "code",
   "execution_count": 3,
   "metadata": {},
   "outputs": [],
   "source": [
    "#hide\n",
    "from nbdev.showdoc import *"
   ]
  },
  {
   "cell_type": "markdown",
   "metadata": {},
   "source": [
    "## Drawing graphs"
   ]
  },
  {
   "cell_type": "code",
   "execution_count": 4,
   "metadata": {},
   "outputs": [],
   "source": [
    "#export\n",
    "def split(path, sep = '/'):\n",
    "    i = path.rfind(sep) + 1\n",
    "    return path[:i].rstrip(sep), path[i:]"
   ]
  },
  {
   "cell_type": "code",
   "execution_count": 5,
   "metadata": {},
   "outputs": [],
   "source": [
    "#export\n",
    "def make_dot_graph(nodes, edges, direction='LR', **kwargs):\n",
    "    from pydot import Dot, Cluster, Node, Edge\n",
    "    class Subgraphs(dict):\n",
    "        def __missing__(self, path):\n",
    "            parent, label = split(path)\n",
    "            subgraph = Cluster(path, label=label, style='rounded, filled', fillcolor='#77777744')\n",
    "            self[parent].add_subgraph(subgraph)\n",
    "            return subgraph\n",
    "    g = Dot(rankdir=direction, directed=True, **kwargs)\n",
    "    g.set_node_defaults(\n",
    "        shape='box', style='rounded, filled', fillcolor='#ffffff')\n",
    "    subgraphs = Subgraphs({'': g})\n",
    "    for path, attr in nodes:\n",
    "        parent, label = split(path)\n",
    "        subgraphs[parent].add_node(\n",
    "            Node(name=path, label=label, **attr))\n",
    "    for src, dst, attr in edges:\n",
    "        g.add_edge(Edge(src, dst, **attr))\n",
    "    return g"
   ]
  },
  {
   "cell_type": "code",
   "execution_count": 6,
   "metadata": {},
   "outputs": [],
   "source": [
    "#export\n",
    "def to_dict(inputs):\n",
    "    return dict(enumerate(inputs)) if isinstance(inputs, list) else inputs"
   ]
  },
  {
   "cell_type": "code",
   "execution_count": 7,
   "metadata": {},
   "outputs": [],
   "source": [
    "#export\n",
    "class DotGraph():\n",
    "    def __init__(self, graph, size=None, direction='LR'):\n",
    "        self.nodes = [(k, v) for k, (v,_) in graph.items()]\n",
    "        self.edges = [(src, dst, {'tooltip': name}) for dst, (_, inputs) in graph.items() for name, src in to_dict(inputs).items()]\n",
    "        self.size, self.direction = size or 8+len(graph)/3, direction\n",
    "\n",
    "    def dot_graph(self, **kwargs):\n",
    "        return make_dot_graph(self.nodes, self.edges, size=self.size, direction=self.direction,  **kwargs)\n",
    "\n",
    "    def svg(self, **kwargs):\n",
    "        return self.dot_graph(**kwargs).create(format='svg').decode('utf-8')\n",
    "    try:\n",
    "        import pydot\n",
    "        _repr_svg_ = svg\n",
    "    except ImportError:\n",
    "        def __repr__(self): return 'pydot is needed for network visualisation'"
   ]
  },
  {
   "cell_type": "markdown",
   "metadata": {
    "colab_type": "text",
    "id": "fioSL6kSGQeH"
   },
   "source": [
    "Let's define a compact way of representing directed graphs (suitable for describing neural networks) as python dictionaries. Each node has a *name* which should be a string, a *value* which can be anything and an (ordered) list of *inputs* representing incoming edges from other nodes. Inputs are ordered as they typically represent function args. We can alternatively provide a dict of *inputs* to represent named args. Here is our graph format:\n",
    "\n",
    "\n",
    "```\n",
    "Graph := {name: (value, [input])}\n",
    "```\n",
    "\n",
    "or\n",
    "\n",
    "```\n",
    "Graph := {name: (value, {input_name: input}}\n",
    "```\n",
    "\n",
    "Here is an example of such a Graph using both kinds of inputs:\n"
   ]
  },
  {
   "cell_type": "code",
   "execution_count": 8,
   "metadata": {
    "colab": {},
    "colab_type": "code",
    "id": "IEvcxnz_W2s_"
   },
   "outputs": [],
   "source": [
    "#define some node values - just strings for now we'll use more interesting values later\n",
    "A,B,C,D = 'Aa Bb Cc Dd'.split()\n",
    "\n",
    "graph = {\n",
    "    'a': (A, []),\n",
    "    'b': (B, ['a']),\n",
    "    'c': (C, {'x': 'a', 'y': 'c'}),\n",
    "    'd': (D, ['b'])\n",
    "}"
   ]
  },
  {
   "cell_type": "markdown",
   "metadata": {
    "colab_type": "text",
    "id": "OpIHhudKHaWE"
   },
   "source": [
    "It will be useful to be able to display Graphs. Here is a function that does that:"
   ]
  },
  {
   "cell_type": "code",
   "execution_count": null,
   "metadata": {
    "colab": {
     "base_uri": "https://localhost:8080/",
     "height": 176
    },
    "colab_type": "code",
    "id": "argu0xD1GJDE",
    "outputId": "66039955-28af-48b3-ffbe-d2ca68de593e"
   },
   "outputs": [],
   "source": [
    "#export\n",
    "def draw_graph(graph):\n",
    "    return DotGraph({name: ({'tooltip': str(value)}, inputs) for name, (value,inputs) in graph.items()}, size=10)"
   ]
  },
  {
   "cell_type": "code",
   "execution_count": 9,
   "metadata": {
    "colab": {
     "base_uri": "https://localhost:8080/",
     "height": 176
    },
    "colab_type": "code",
    "id": "argu0xD1GJDE",
    "outputId": "66039955-28af-48b3-ffbe-d2ca68de593e"
   },
   "outputs": [
    {
     "data": {
      "image/svg+xml": [
       "<?xml version=\"1.0\" encoding=\"UTF-8\" standalone=\"no\"?>\n",
       "<!DOCTYPE svg PUBLIC \"-//W3C//DTD SVG 1.1//EN\"\n",
       " \"http://www.w3.org/Graphics/SVG/1.1/DTD/svg11.dtd\">\n",
       "<!-- Generated by graphviz version 2.40.1 (20161225.0304)\n",
       " -->\n",
       "<!-- Title: G Pages: 1 -->\n",
       "<svg width=\"242pt\" height=\"116pt\"\n",
       " viewBox=\"0.00 0.00 242.00 116.00\" xmlns=\"http://www.w3.org/2000/svg\" xmlns:xlink=\"http://www.w3.org/1999/xlink\">\n",
       "<g id=\"graph0\" class=\"graph\" transform=\"scale(1 1) rotate(0) translate(4 112)\">\n",
       "<title>G</title>\n",
       "<polygon fill=\"#ffffff\" stroke=\"transparent\" points=\"-4,4 -4,-112 238,-112 238,4 -4,4\"/>\n",
       "<!-- a -->\n",
       "<g id=\"node1\" class=\"node\">\n",
       "<title>a</title>\n",
       "<g id=\"a_node1\"><a xlink:title=\"Aa\">\n",
       "<path fill=\"#ffffff\" stroke=\"#000000\" d=\"M42,-72C42,-72 12,-72 12,-72 6,-72 0,-66 0,-60 0,-60 0,-48 0,-48 0,-42 6,-36 12,-36 12,-36 42,-36 42,-36 48,-36 54,-42 54,-48 54,-48 54,-60 54,-60 54,-66 48,-72 42,-72\"/>\n",
       "<text text-anchor=\"middle\" x=\"27\" y=\"-50.3\" font-family=\"Times,serif\" font-size=\"14.00\" fill=\"#000000\">a</text>\n",
       "</a>\n",
       "</g>\n",
       "</g>\n",
       "<!-- b -->\n",
       "<g id=\"node2\" class=\"node\">\n",
       "<title>b</title>\n",
       "<g id=\"a_node2\"><a xlink:title=\"Bb\">\n",
       "<path fill=\"#ffffff\" stroke=\"#000000\" d=\"M132,-108C132,-108 102,-108 102,-108 96,-108 90,-102 90,-96 90,-96 90,-84 90,-84 90,-78 96,-72 102,-72 102,-72 132,-72 132,-72 138,-72 144,-78 144,-84 144,-84 144,-96 144,-96 144,-102 138,-108 132,-108\"/>\n",
       "<text text-anchor=\"middle\" x=\"117\" y=\"-86.3\" font-family=\"Times,serif\" font-size=\"14.00\" fill=\"#000000\">b</text>\n",
       "</a>\n",
       "</g>\n",
       "</g>\n",
       "<!-- a&#45;&gt;b -->\n",
       "<g id=\"edge1\" class=\"edge\">\n",
       "<title>a&#45;&gt;b</title>\n",
       "<g id=\"a_edge1\"><a xlink:title=\"0\">\n",
       "<path fill=\"none\" stroke=\"#000000\" d=\"M54.003,-64.8012C62.2922,-68.1169 71.5569,-71.8228 80.3766,-75.3506\"/>\n",
       "<polygon fill=\"#000000\" stroke=\"#000000\" points=\"79.1204,-78.6177 89.705,-79.082 81.7201,-72.1184 79.1204,-78.6177\"/>\n",
       "</a>\n",
       "</g>\n",
       "</g>\n",
       "<!-- c -->\n",
       "<g id=\"node3\" class=\"node\">\n",
       "<title>c</title>\n",
       "<g id=\"a_node3\"><a xlink:title=\"Cc\">\n",
       "<path fill=\"#ffffff\" stroke=\"#000000\" d=\"M132,-36C132,-36 102,-36 102,-36 96,-36 90,-30 90,-24 90,-24 90,-12 90,-12 90,-6 96,0 102,0 102,0 132,0 132,0 138,0 144,-6 144,-12 144,-12 144,-24 144,-24 144,-30 138,-36 132,-36\"/>\n",
       "<text text-anchor=\"middle\" x=\"117\" y=\"-14.3\" font-family=\"Times,serif\" font-size=\"14.00\" fill=\"#000000\">c</text>\n",
       "</a>\n",
       "</g>\n",
       "</g>\n",
       "<!-- a&#45;&gt;c -->\n",
       "<g id=\"edge2\" class=\"edge\">\n",
       "<title>a&#45;&gt;c</title>\n",
       "<g id=\"a_edge2\"><a xlink:title=\"x\">\n",
       "<path fill=\"none\" stroke=\"#000000\" d=\"M54.003,-43.1988C62.2922,-39.8831 71.5569,-36.1772 80.3766,-32.6494\"/>\n",
       "<polygon fill=\"#000000\" stroke=\"#000000\" points=\"81.7201,-35.8816 89.705,-28.918 79.1204,-29.3823 81.7201,-35.8816\"/>\n",
       "</a>\n",
       "</g>\n",
       "</g>\n",
       "<!-- d -->\n",
       "<g id=\"node4\" class=\"node\">\n",
       "<title>d</title>\n",
       "<g id=\"a_node4\"><a xlink:title=\"Dd\">\n",
       "<path fill=\"#ffffff\" stroke=\"#000000\" d=\"M222,-108C222,-108 192,-108 192,-108 186,-108 180,-102 180,-96 180,-96 180,-84 180,-84 180,-78 186,-72 192,-72 192,-72 222,-72 222,-72 228,-72 234,-78 234,-84 234,-84 234,-96 234,-96 234,-102 228,-108 222,-108\"/>\n",
       "<text text-anchor=\"middle\" x=\"207\" y=\"-86.3\" font-family=\"Times,serif\" font-size=\"14.00\" fill=\"#000000\">d</text>\n",
       "</a>\n",
       "</g>\n",
       "</g>\n",
       "<!-- b&#45;&gt;d -->\n",
       "<g id=\"edge4\" class=\"edge\">\n",
       "<title>b&#45;&gt;d</title>\n",
       "<g id=\"a_edge4\"><a xlink:title=\"0\">\n",
       "<path fill=\"none\" stroke=\"#000000\" d=\"M144.003,-90C152.0277,-90 160.9665,-90 169.5309,-90\"/>\n",
       "<polygon fill=\"#000000\" stroke=\"#000000\" points=\"169.7051,-93.5001 179.705,-90 169.705,-86.5001 169.7051,-93.5001\"/>\n",
       "</a>\n",
       "</g>\n",
       "</g>\n",
       "<!-- c&#45;&gt;c -->\n",
       "<g id=\"edge3\" class=\"edge\">\n",
       "<title>c&#45;&gt;c</title>\n",
       "<g id=\"a_edge3\"><a xlink:title=\"y\">\n",
       "<path fill=\"none\" stroke=\"#000000\" d=\"M100.7183,-36.1527C98.2134,-45.5391 103.6406,-54 117,-54 125.1409,-54 130.3362,-50.8581 132.5861,-46.2796\"/>\n",
       "<polygon fill=\"#000000\" stroke=\"#000000\" points=\"136.0881,-46.3691 133.2817,-36.1527 129.1046,-45.8893 136.0881,-46.3691\"/>\n",
       "</a>\n",
       "</g>\n",
       "</g>\n",
       "</g>\n",
       "</svg>\n"
      ],
      "text/plain": [
       "<__main__.DotGraph at 0x7f31b0d864d0>"
      ]
     },
     "execution_count": 9,
     "metadata": {},
     "output_type": "execute_result"
    }
   ],
   "source": [
    "draw_graph(graph)"
   ]
  },
  {
   "cell_type": "markdown",
   "metadata": {},
   "source": [
    "## Exploding graphs"
   ]
  },
  {
   "cell_type": "code",
   "execution_count": 10,
   "metadata": {},
   "outputs": [],
   "source": [
    "#export\n",
    "def iter_nodes(graph):\n",
    "    # graph = {name: node for (name, node) in graph.items() if node is not None}\n",
    "    keys = list(graph.keys())\n",
    "    if not all(isinstance(k, str) for k in keys):\n",
    "        raise Exception('Node names must be strings.')\n",
    "    return ((name, (node if isinstance(node, tuple) else (node, [0 if j is 0 else keys[j-1]])))\n",
    "            for (j, (name, node)) in enumerate(graph.items()))"
   ]
  },
  {
   "cell_type": "code",
   "execution_count": 11,
   "metadata": {},
   "outputs": [],
   "source": [
    "#export\n",
    "map_ = lambda func, vals: [func(x) for x in vals] if isinstance(vals, list) else {k: func(v) for k,v in vals.items()}\n",
    "pfx = lambda prefix, name: f'{prefix}/{name}'\n",
    "external_inputs = lambda graph: set(i for name, (value, inputs) in iter_nodes(graph) for i in inputs if i not in graph)"
   ]
  },
  {
   "cell_type": "code",
   "execution_count": 12,
   "metadata": {},
   "outputs": [],
   "source": [
    "#export\n",
    "def bindings(graph, inputs):\n",
    "    if isinstance(inputs, list): inputs = dict(enumerate(inputs))\n",
    "    required_inputs = external_inputs(graph)\n",
    "    missing = [k for k in required_inputs if k not in inputs]\n",
    "    if len(missing): \n",
    "        raise Exception(f'Required inputs {missing} are missing from inputs {inputs} for graph {graph}')\n",
    "    return inputs"
   ]
  },
  {
   "cell_type": "code",
   "execution_count": 13,
   "metadata": {},
   "outputs": [],
   "source": [
    "#export\n",
    "walk = lambda dct, key: walk(dct, dct[key]) if key in dct else key"
   ]
  },
  {
   "cell_type": "code",
   "execution_count": 14,
   "metadata": {},
   "outputs": [],
   "source": [
    "#export\n",
    "_all_ = ['to_graph']"
   ]
  },
  {
   "cell_type": "code",
   "execution_count": 15,
   "metadata": {},
   "outputs": [],
   "source": [
    "#export\n",
    "@singledispatch\n",
    "def to_graph(value): \n",
    "    raise NotImplementedError(f'type = {type(value)}')"
   ]
  },
  {
   "cell_type": "code",
   "execution_count": 16,
   "metadata": {},
   "outputs": [],
   "source": [
    "#export\n",
    "@to_graph.register(dict)\n",
    "def _(x): return x"
   ]
  },
  {
   "cell_type": "code",
   "execution_count": 17,
   "metadata": {},
   "outputs": [],
   "source": [
    "#export\n",
    "def maybe_graph(x):\n",
    "    try: return to_graph(x)\n",
    "    except NotImplementedError: return x"
   ]
  },
  {
   "cell_type": "code",
   "execution_count": 18,
   "metadata": {},
   "outputs": [],
   "source": [
    "#export\n",
    "def explode(graph, max_levels=-1, convert=maybe_graph):\n",
    "    graph = convert(graph)\n",
    "    if max_levels==0 or not isinstance(graph, dict): return graph\n",
    "    redirects = {}\n",
    "    def iter_(graph):\n",
    "        for name, (value, inputs) in iter_nodes(graph):\n",
    "            value = explode(value, max_levels-1, convert=convert)\n",
    "            if isinstance(value, dict):\n",
    "                #special case empty dict\n",
    "                if not len(value): \n",
    "                    if len(inputs) != 1: raise Exception('Empty graphs (pass-thrus) should have exactly one input')\n",
    "                    redirects[name] = inputs[0] #redirect to input\n",
    "                else:\n",
    "                    bindings_dict = bindings(value, inputs)\n",
    "                    for n, (val, ins) in iter_nodes(value):\n",
    "                        yield (pfx(name, n), (val, map_((lambda i: bindings_dict.get(i, pfx(name, i))), ins)))\n",
    "                    redirects[name] = pfx(name, n) #redirect to previous node\n",
    "            else:\n",
    "                yield (name, (value, inputs))\n",
    "    return {name: (value, map_((lambda i: walk(redirects, i)), inputs)) for name, (value, inputs) in iter_(graph)}"
   ]
  },
  {
   "cell_type": "markdown",
   "metadata": {},
   "source": [
    "## Creating Networks"
   ]
  },
  {
   "cell_type": "code",
   "execution_count": 5,
   "metadata": {},
   "outputs": [],
   "source": [
    "#export\n",
    "class ColorMap(dict):\n",
    "    palette = ['#'+x for x in (\n",
    "        'bebada,ffffb3,fb8072,8dd3c7,80b1d3,fdb462,b3de69,fccde5,bc80bd,ccebc5,ffed6f,1f78b4,33a02c,e31a1c,ff7f00,'\n",
    "        '4dddf8,e66493,b07b87,4e90e3,dea05e,d0c281,f0e189,e9e8b1,e0eb71,bbd2a4,6ed641,57eb9c,3ca4d4,92d5e7,b15928'\n",
    "    ).split(',')]\n",
    "\n",
    "    def __missing__(self, key):\n",
    "        self[key] = self.palette[len(self) % len(self.palette)]\n",
    "        return self[key]\n",
    "\n",
    "    def _repr_html_(self):\n",
    "        css = (\n",
    "        '.pill {'\n",
    "            'margin:2px; border-width:1px; border-radius:9px; border-style:solid;'\n",
    "            'display:inline-block; width:100px; height:15px; line-height:15px;'\n",
    "        '}'\n",
    "        '.pill_text {'\n",
    "            'width:90%; margin:auto; font-size:9px; text-align:center; overflow:hidden;'\n",
    "        '}'\n",
    "        )\n",
    "        s = '<div class=pill style=\"background-color:{}\"><div class=pill_text>{}</div></div>'\n",
    "        return '<style>'+css+'</style>'+''.join((s.format(color, text) for text, color in self.items()))"
   ]
  },
  {
   "cell_type": "code",
   "execution_count": 21,
   "metadata": {},
   "outputs": [],
   "source": [
    "#export\n",
    "class Network(nn.Module):\n",
    "    colors = ColorMap()\n",
    "    def __init__(self, graph, cache_activations=False):\n",
    "        self._graph = to_graph(graph)\n",
    "        super().__init__()\n",
    "        self.cache_activations = cache_activations\n",
    "        for path, (val, _) in iter_nodes(self._graph):  setattr(self, path.replace('/', '__'), val)\n",
    "    \n",
    "    def __setattr__(self, name, value):\n",
    "        super().__setattr__(name, value)\n",
    "        path = name.replace('__', '/')\n",
    "        if path in self._graph:\n",
    "            old_val = self._graph[path]\n",
    "            self._graph[path] = (value, old_val[1]) if isinstance(old_val, tuple) else value\n",
    "\n",
    "    def forward(self, *args):\n",
    "        prev = args[0]\n",
    "        outputs = self.cache = dict(enumerate(args))\n",
    "        for k, (node, inputs) in iter_nodes(self._graph):\n",
    "            if k not in outputs:prev = outputs[k] = node(*[outputs[x] for x in inputs])\n",
    "        if not self.cache_activations: self.cache = None\n",
    "        return prev\n",
    "\n",
    "    def draw(self, **kwargs):\n",
    "        return DotGraph({p: ({'fillcolor': self.colors[type(v).__name__], 'tooltip': str(v)}, inputs)\n",
    "                         for p, (v, inputs) in iter_nodes(to_graph(self))}, **kwargs)\n",
    "\n",
    "    def explode(self, max_levels=-1):\n",
    "        convert = lambda x: to_graph(x) if isinstance(x, Network) else x\n",
    "        return Network(explode(self, max_levels, convert=convert))"
   ]
  },
  {
   "cell_type": "code",
   "execution_count": 22,
   "metadata": {},
   "outputs": [],
   "source": [
    "#export\n",
    "def to_network(module, max_levels=-1):\n",
    "    net = Network(module)\n",
    "    if max_levels == 0: return net\n",
    "    for k, mod in net.named_children():\n",
    "        try: setattr(net, k, to_network(mod, max_levels-1))\n",
    "        except NotImplementedError: pass\n",
    "    return net"
   ]
  },
  {
   "cell_type": "code",
   "execution_count": 23,
   "metadata": {},
   "outputs": [],
   "source": [
    "#export\n",
    "@to_graph.register(Network)\n",
    "def _(x): return x._graph    "
   ]
  },
  {
   "cell_type": "markdown",
   "metadata": {},
   "source": [
    "## Export -"
   ]
  },
  {
   "cell_type": "code",
   "execution_count": 12,
   "metadata": {},
   "outputs": [
    {
     "name": "stdout",
     "output_type": "stream",
     "text": [
      "Converted 00_core.ipynb.\n",
      "Converted index.ipynb.\n"
     ]
    }
   ],
   "source": [
    "from nbdev.export import notebook2script\n",
    "notebook2script()"
   ]
  },
  {
   "cell_type": "code",
   "execution_count": null,
   "metadata": {},
   "outputs": [],
   "source": []
  }
 ],
 "metadata": {
  "kernelspec": {
   "display_name": "Python 3",
   "language": "python",
   "name": "python3"
  },
  "language_info": {
   "codemirror_mode": {
    "name": "ipython",
    "version": 3
   },
   "file_extension": ".py",
   "mimetype": "text/x-python",
   "name": "python",
   "nbconvert_exporter": "python",
   "pygments_lexer": "ipython3",
   "version": "3.7.5"
  },
  "toc": {
   "base_numbering": 1,
   "nav_menu": {},
   "number_sections": false,
   "sideBar": true,
   "skip_h1_title": true,
   "title_cell": "Table of Contents",
   "title_sidebar": "Contents",
   "toc_cell": false,
   "toc_position": {},
   "toc_section_display": true,
   "toc_window_display": false
  }
 },
 "nbformat": 4,
 "nbformat_minor": 2
}
